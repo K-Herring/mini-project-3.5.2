{
 "cells": [
  {
   "cell_type": "markdown",
   "id": "7b8b3d8d",
   "metadata": {},
   "source": [
    "# Data clean\n",
    "### Collecting data with APIs\n",
    "I explored Zillow.com from Nasdaq data link for the data of house price."
   ]
  },
  {
   "cell_type": "code",
   "execution_count": 31,
   "id": "8430cf53",
   "metadata": {},
   "outputs": [],
   "source": [
    "import quandl\n",
    "from pathlib import Path\n",
    "import os\n",
    "from dotenv import load_dotenv  # if missing this module, simply run `pip install python-dotenv`\n",
    "import pandas as pd\n",
    "\n",
    "load_dotenv()\n",
    "api_key = os.getenv('NASDAQ_API_KEY')"
   ]
  },
  {
   "cell_type": "code",
   "execution_count": 16,
   "id": "0cb47c6e",
   "metadata": {},
   "outputs": [],
   "source": [
    "quandl.ApiConfig.api_key = api_key"
   ]
  },
  {
   "cell_type": "markdown",
   "id": "060461e7",
   "metadata": {},
   "source": [
    "### There three tables of data\n",
    "data1 includes: house type (indicator_id), address zipcode (region_id), date of the information (date) and target value of house pricing (value).\n",
    "data2 includes: indicator"
   ]
  },
  {
   "cell_type": "code",
   "execution_count": 27,
   "id": "28e23b24",
   "metadata": {},
   "outputs": [
    {
     "name": "stderr",
     "output_type": "stream",
     "text": [
      "/opt/anaconda3/lib/python3.9/site-packages/quandl/get_table.py:38: UserWarning: To request more pages, please set paginate=True in your         quandl.get_table() call. For more information see our documentation:         https://github.com/quandl/quandl-python/blob/master/FOR_ANALYSTS.md#things-to-note\n",
      "  warnings.warn(Message.WARN_PAGE_LIMIT_EXCEEDED, UserWarning)\n"
     ]
    }
   ],
   "source": [
    "data1 = quandl.get_table('ZILLOW/DATA', indicator_id = 'ZSFH')"
   ]
  },
  {
   "cell_type": "code",
   "execution_count": 28,
   "id": "53b5f8ca",
   "metadata": {},
   "outputs": [],
   "source": [
    "data2 = quandl.get_table(\"ZILLOW/INDICATORS\", paginate=True)"
   ]
  },
  {
   "cell_type": "code",
   "execution_count": 29,
   "id": "c62744a8",
   "metadata": {},
   "outputs": [],
   "source": [
    "data3 = quandl.get_table(\"ZILLOW/REGIONS\", paginate=True)"
   ]
  },
  {
   "cell_type": "code",
   "execution_count": 38,
   "id": "0969442a",
   "metadata": {},
   "outputs": [],
   "source": [
    "data_all = pd.read_csv('ZILLOW_DATA.csv')"
   ]
  },
  {
   "cell_type": "code",
   "execution_count": 40,
   "id": "af007495",
   "metadata": {},
   "outputs": [],
   "source": [
    "data_ZSFH = data_all[data_all.indicator_id == 'ZSFH'] "
   ]
  },
  {
   "cell_type": "code",
   "execution_count": 52,
   "id": "27440fb4",
   "metadata": {},
   "outputs": [
    {
     "data": {
      "text/html": [
       "<div>\n",
       "<style scoped>\n",
       "    .dataframe tbody tr th:only-of-type {\n",
       "        vertical-align: middle;\n",
       "    }\n",
       "\n",
       "    .dataframe tbody tr th {\n",
       "        vertical-align: top;\n",
       "    }\n",
       "\n",
       "    .dataframe thead th {\n",
       "        text-align: right;\n",
       "    }\n",
       "</style>\n",
       "<table border=\"1\" class=\"dataframe\">\n",
       "  <thead>\n",
       "    <tr style=\"text-align: right;\">\n",
       "      <th></th>\n",
       "      <th>indicator_id</th>\n",
       "      <th>region_id</th>\n",
       "      <th>date</th>\n",
       "      <th>value</th>\n",
       "    </tr>\n",
       "  </thead>\n",
       "  <tbody>\n",
       "    <tr>\n",
       "      <th>266</th>\n",
       "      <td>ZSFH</td>\n",
       "      <td>92576</td>\n",
       "      <td>2021-03-31</td>\n",
       "      <td>377507.0</td>\n",
       "    </tr>\n",
       "    <tr>\n",
       "      <th>267</th>\n",
       "      <td>ZSFH</td>\n",
       "      <td>34</td>\n",
       "      <td>2020-06-30</td>\n",
       "      <td>126755.0</td>\n",
       "    </tr>\n",
       "    <tr>\n",
       "      <th>268</th>\n",
       "      <td>ZSFH</td>\n",
       "      <td>61790</td>\n",
       "      <td>2021-04-30</td>\n",
       "      <td>604923.0</td>\n",
       "    </tr>\n",
       "    <tr>\n",
       "      <th>559</th>\n",
       "      <td>ZSFH</td>\n",
       "      <td>61790</td>\n",
       "      <td>2021-03-31</td>\n",
       "      <td>602013.0</td>\n",
       "    </tr>\n",
       "    <tr>\n",
       "      <th>560</th>\n",
       "      <td>ZSFH</td>\n",
       "      <td>6</td>\n",
       "      <td>2020-06-30</td>\n",
       "      <td>134568.0</td>\n",
       "    </tr>\n",
       "  </tbody>\n",
       "</table>\n",
       "</div>"
      ],
      "text/plain": [
       "    indicator_id  region_id        date     value\n",
       "266         ZSFH      92576  2021-03-31  377507.0\n",
       "267         ZSFH         34  2020-06-30  126755.0\n",
       "268         ZSFH      61790  2021-04-30  604923.0\n",
       "559         ZSFH      61790  2021-03-31  602013.0\n",
       "560         ZSFH          6  2020-06-30  134568.0"
      ]
     },
     "execution_count": 52,
     "metadata": {},
     "output_type": "execute_result"
    }
   ],
   "source": [
    "data_ZSFH.head()"
   ]
  },
  {
   "cell_type": "code",
   "execution_count": 65,
   "id": "15900868",
   "metadata": {},
   "outputs": [
    {
     "data": {
      "text/html": [
       "<div>\n",
       "<style scoped>\n",
       "    .dataframe tbody tr th:only-of-type {\n",
       "        vertical-align: middle;\n",
       "    }\n",
       "\n",
       "    .dataframe tbody tr th {\n",
       "        vertical-align: top;\n",
       "    }\n",
       "\n",
       "    .dataframe thead th {\n",
       "        text-align: right;\n",
       "    }\n",
       "</style>\n",
       "<table border=\"1\" class=\"dataframe\">\n",
       "  <thead>\n",
       "    <tr style=\"text-align: right;\">\n",
       "      <th></th>\n",
       "      <th>indicator_id</th>\n",
       "      <th>region_id</th>\n",
       "      <th>date</th>\n",
       "      <th>value</th>\n",
       "    </tr>\n",
       "  </thead>\n",
       "  <tbody>\n",
       "    <tr>\n",
       "      <th>25669052</th>\n",
       "      <td>ZSFH</td>\n",
       "      <td>33102</td>\n",
       "      <td>1996-01-31</td>\n",
       "      <td>65957.0</td>\n",
       "    </tr>\n",
       "    <tr>\n",
       "      <th>26977398</th>\n",
       "      <td>ZSFH</td>\n",
       "      <td>37410</td>\n",
       "      <td>1996-01-31</td>\n",
       "      <td>54744.0</td>\n",
       "    </tr>\n",
       "    <tr>\n",
       "      <th>1215684</th>\n",
       "      <td>ZSFH</td>\n",
       "      <td>71158</td>\n",
       "      <td>1996-01-31</td>\n",
       "      <td>132968.0</td>\n",
       "    </tr>\n",
       "    <tr>\n",
       "      <th>50675501</th>\n",
       "      <td>ZSFH</td>\n",
       "      <td>781</td>\n",
       "      <td>1996-01-31</td>\n",
       "      <td>52652.0</td>\n",
       "    </tr>\n",
       "    <tr>\n",
       "      <th>19257238</th>\n",
       "      <td>ZSFH</td>\n",
       "      <td>74634</td>\n",
       "      <td>1996-01-31</td>\n",
       "      <td>117709.0</td>\n",
       "    </tr>\n",
       "    <tr>\n",
       "      <th>...</th>\n",
       "      <td>...</td>\n",
       "      <td>...</td>\n",
       "      <td>...</td>\n",
       "      <td>...</td>\n",
       "    </tr>\n",
       "    <tr>\n",
       "      <th>9842619</th>\n",
       "      <td>ZSFH</td>\n",
       "      <td>342733</td>\n",
       "      <td>2022-07-31</td>\n",
       "      <td>1322635.0</td>\n",
       "    </tr>\n",
       "    <tr>\n",
       "      <th>10866493</th>\n",
       "      <td>ZSFH</td>\n",
       "      <td>92321</td>\n",
       "      <td>2022-07-31</td>\n",
       "      <td>165155.0</td>\n",
       "    </tr>\n",
       "    <tr>\n",
       "      <th>9842616</th>\n",
       "      <td>ZSFH</td>\n",
       "      <td>417787</td>\n",
       "      <td>2022-07-31</td>\n",
       "      <td>735670.0</td>\n",
       "    </tr>\n",
       "    <tr>\n",
       "      <th>10866479</th>\n",
       "      <td>ZSFH</td>\n",
       "      <td>61867</td>\n",
       "      <td>2022-07-31</td>\n",
       "      <td>887217.0</td>\n",
       "    </tr>\n",
       "    <tr>\n",
       "      <th>9815500</th>\n",
       "      <td>ZSFH</td>\n",
       "      <td>764277</td>\n",
       "      <td>2022-07-31</td>\n",
       "      <td>256704.0</td>\n",
       "    </tr>\n",
       "  </tbody>\n",
       "</table>\n",
       "<p>19391128 rows × 4 columns</p>\n",
       "</div>"
      ],
      "text/plain": [
       "         indicator_id  region_id        date      value\n",
       "25669052         ZSFH      33102  1996-01-31    65957.0\n",
       "26977398         ZSFH      37410  1996-01-31    54744.0\n",
       "1215684          ZSFH      71158  1996-01-31   132968.0\n",
       "50675501         ZSFH        781  1996-01-31    52652.0\n",
       "19257238         ZSFH      74634  1996-01-31   117709.0\n",
       "...               ...        ...         ...        ...\n",
       "9842619          ZSFH     342733  2022-07-31  1322635.0\n",
       "10866493         ZSFH      92321  2022-07-31   165155.0\n",
       "9842616          ZSFH     417787  2022-07-31   735670.0\n",
       "10866479         ZSFH      61867  2022-07-31   887217.0\n",
       "9815500          ZSFH     764277  2022-07-31   256704.0\n",
       "\n",
       "[19391128 rows x 4 columns]"
      ]
     },
     "execution_count": 65,
     "metadata": {},
     "output_type": "execute_result"
    }
   ],
   "source": [
    "data_ZSFH.sort_values(by = 'date')"
   ]
  },
  {
   "cell_type": "code",
   "execution_count": null,
   "id": "6788e930",
   "metadata": {},
   "outputs": [],
   "source": []
  }
 ],
 "metadata": {
  "kernelspec": {
   "display_name": "Python 3 (ipykernel)",
   "language": "python",
   "name": "python3"
  },
  "language_info": {
   "codemirror_mode": {
    "name": "ipython",
    "version": 3
   },
   "file_extension": ".py",
   "mimetype": "text/x-python",
   "name": "python",
   "nbconvert_exporter": "python",
   "pygments_lexer": "ipython3",
   "version": "3.9.10"
  }
 },
 "nbformat": 4,
 "nbformat_minor": 5
}
