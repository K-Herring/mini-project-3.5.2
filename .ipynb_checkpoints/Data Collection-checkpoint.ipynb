{
 "cells": [
  {
   "cell_type": "code",
   "execution_count": 1,
   "id": "b512dd70",
   "metadata": {},
   "outputs": [],
   "source": [
    "# I explored Zillow.com from Nasdaq data link for the data of house price."
   ]
  },
  {
   "cell_type": "code",
   "execution_count": 57,
   "id": "8430cf53",
   "metadata": {},
   "outputs": [],
   "source": [
    "import quandl\n",
    "from pathlib import Path\n",
    "import os\n",
    "from dotenv import load_dotenv  # if missing this module, simply run `pip install python-dotenv`\n",
    "\n",
    "load_dotenv()\n",
    "api_key = os.getenv('NASDAQ_API_KEY')"
   ]
  },
  {
   "cell_type": "code",
   "execution_count": 41,
   "id": "0cb47c6e",
   "metadata": {},
   "outputs": [],
   "source": [
    "quandl.ApiConfig.api_key = api_key"
   ]
  },
  {
   "cell_type": "code",
   "execution_count": 54,
   "id": "28e23b24",
   "metadata": {},
   "outputs": [],
   "source": [
    "data1 = quandl.get_table('ZILLOW/DATA', indicator_id='ZSFH', region_id='99999')"
   ]
  },
  {
   "cell_type": "code",
   "execution_count": 55,
   "id": "53b5f8ca",
   "metadata": {},
   "outputs": [],
   "source": [
    "data2 = quandl.get_table(\"ZILLOW/INDICATORS\", paginate=True)"
   ]
  },
  {
   "cell_type": "code",
   "execution_count": 56,
   "id": "c62744a8",
   "metadata": {},
   "outputs": [],
   "source": [
    "data3 = quandl.get_table(\"ZILLOW/REGIONS\", paginate=True)"
   ]
  },
  {
   "cell_type": "code",
   "execution_count": 61,
   "id": "ad4f5795",
   "metadata": {},
   "outputs": [],
   "source": [
    "filepath = '/Users/ke/Documents/GitHub/Bootcamp/dataset/'"
   ]
  },
  {
   "cell_type": "code",
   "execution_count": 62,
   "id": "fdca6765",
   "metadata": {},
   "outputs": [],
   "source": [
    "data1.to_csv(filepath+'data1.csv') \n",
    "data2.to_csv(filepath+'data2.csv') \n",
    "data3.to_csv(filepath+'data3.csv') "
   ]
  },
  {
   "cell_type": "code",
   "execution_count": null,
   "id": "258ef0ef",
   "metadata": {},
   "outputs": [],
   "source": []
  }
 ],
 "metadata": {
  "kernelspec": {
   "display_name": "Python 3 (ipykernel)",
   "language": "python",
   "name": "python3"
  },
  "language_info": {
   "codemirror_mode": {
    "name": "ipython",
    "version": 3
   },
   "file_extension": ".py",
   "mimetype": "text/x-python",
   "name": "python",
   "nbconvert_exporter": "python",
   "pygments_lexer": "ipython3",
   "version": "3.9.10"
  }
 },
 "nbformat": 4,
 "nbformat_minor": 5
}
